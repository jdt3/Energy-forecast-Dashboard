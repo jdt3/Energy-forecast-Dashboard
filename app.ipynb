{
 "cells": [
  {
   "cell_type": "code",
   "execution_count": 2,
   "id": "a9fc7cd8-fc96-4826-b7de-774f5ee85eb5",
   "metadata": {},
   "outputs": [
    {
     "name": "stdout",
     "output_type": "stream",
     "text": [
      "C:\\Users\\trive\n"
     ]
    }
   ],
   "source": [
    "import os\n",
    "print(os.getcwd())"
   ]
  },
  {
   "cell_type": "code",
   "execution_count": 4,
   "id": "c5d40446-b7f6-4d1a-8888-ef6eef67da88",
   "metadata": {},
   "outputs": [],
   "source": [
    "os.chdir('C:/Users/trive/Dashboard')"
   ]
  },
  {
   "cell_type": "code",
   "execution_count": 6,
   "id": "6c3fe69f-b17b-42ed-905c-a3169183f1a5",
   "metadata": {},
   "outputs": [
    {
     "name": "stdout",
     "output_type": "stream",
     "text": [
      "C:\\Users\\trive\\Dashboard\n"
     ]
    }
   ],
   "source": [
    "print(os.getcwd())"
   ]
  },
  {
   "cell_type": "code",
   "execution_count": 8,
   "id": "5aeaae28-94bc-4999-8901-b963a04667f8",
   "metadata": {
    "scrolled": true
   },
   "outputs": [
    {
     "name": "stderr",
     "output_type": "stream",
     "text": [
      "ERROR: Invalid requirement: '#': Expected package name at the start of dependency specifier\n",
      "    #\n",
      "    ^\n"
     ]
    },
    {
     "name": "stdout",
     "output_type": "stream",
     "text": [
      "Requirement already satisfied: dash_bootstrap_components in c:\\users\\trive\\anaconda3\\lib\\site-packages (2.0.0)\n",
      "Requirement already satisfied: dash>=3.0.0 in c:\\users\\trive\\anaconda3\\lib\\site-packages (from dash_bootstrap_components) (3.0.1)\n",
      "Requirement already satisfied: Flask<3.1,>=1.0.4 in c:\\users\\trive\\anaconda3\\lib\\site-packages (from dash>=3.0.0->dash_bootstrap_components) (3.0.3)\n",
      "Requirement already satisfied: Werkzeug<3.1 in c:\\users\\trive\\anaconda3\\lib\\site-packages (from dash>=3.0.0->dash_bootstrap_components) (3.0.3)\n",
      "Requirement already satisfied: plotly>=5.0.0 in c:\\users\\trive\\anaconda3\\lib\\site-packages (from dash>=3.0.0->dash_bootstrap_components) (5.24.1)\n",
      "Requirement already satisfied: importlib-metadata in c:\\users\\trive\\anaconda3\\lib\\site-packages (from dash>=3.0.0->dash_bootstrap_components) (7.0.1)\n",
      "Requirement already satisfied: typing-extensions>=4.1.1 in c:\\users\\trive\\anaconda3\\lib\\site-packages (from dash>=3.0.0->dash_bootstrap_components) (4.11.0)\n",
      "Requirement already satisfied: requests in c:\\users\\trive\\anaconda3\\lib\\site-packages (from dash>=3.0.0->dash_bootstrap_components) (2.32.3)\n",
      "Requirement already satisfied: retrying in c:\\users\\trive\\anaconda3\\lib\\site-packages (from dash>=3.0.0->dash_bootstrap_components) (1.3.4)\n",
      "Requirement already satisfied: nest-asyncio in c:\\users\\trive\\anaconda3\\lib\\site-packages (from dash>=3.0.0->dash_bootstrap_components) (1.6.0)\n",
      "Requirement already satisfied: setuptools in c:\\users\\trive\\anaconda3\\lib\\site-packages (from dash>=3.0.0->dash_bootstrap_components) (75.1.0)\n",
      "Requirement already satisfied: Jinja2>=3.1.2 in c:\\users\\trive\\anaconda3\\lib\\site-packages (from Flask<3.1,>=1.0.4->dash>=3.0.0->dash_bootstrap_components) (3.1.4)\n",
      "Requirement already satisfied: itsdangerous>=2.1.2 in c:\\users\\trive\\anaconda3\\lib\\site-packages (from Flask<3.1,>=1.0.4->dash>=3.0.0->dash_bootstrap_components) (2.2.0)\n",
      "Requirement already satisfied: click>=8.1.3 in c:\\users\\trive\\anaconda3\\lib\\site-packages (from Flask<3.1,>=1.0.4->dash>=3.0.0->dash_bootstrap_components) (8.1.7)\n",
      "Requirement already satisfied: blinker>=1.6.2 in c:\\users\\trive\\anaconda3\\lib\\site-packages (from Flask<3.1,>=1.0.4->dash>=3.0.0->dash_bootstrap_components) (1.6.2)\n",
      "Requirement already satisfied: tenacity>=6.2.0 in c:\\users\\trive\\anaconda3\\lib\\site-packages (from plotly>=5.0.0->dash>=3.0.0->dash_bootstrap_components) (8.2.3)\n",
      "Requirement already satisfied: packaging in c:\\users\\trive\\anaconda3\\lib\\site-packages (from plotly>=5.0.0->dash>=3.0.0->dash_bootstrap_components) (24.1)\n",
      "Requirement already satisfied: MarkupSafe>=2.1.1 in c:\\users\\trive\\anaconda3\\lib\\site-packages (from Werkzeug<3.1->dash>=3.0.0->dash_bootstrap_components) (2.1.3)\n",
      "Requirement already satisfied: zipp>=0.5 in c:\\users\\trive\\anaconda3\\lib\\site-packages (from importlib-metadata->dash>=3.0.0->dash_bootstrap_components) (3.17.0)\n",
      "Requirement already satisfied: charset-normalizer<4,>=2 in c:\\users\\trive\\anaconda3\\lib\\site-packages (from requests->dash>=3.0.0->dash_bootstrap_components) (3.3.2)\n",
      "Requirement already satisfied: idna<4,>=2.5 in c:\\users\\trive\\anaconda3\\lib\\site-packages (from requests->dash>=3.0.0->dash_bootstrap_components) (3.7)\n",
      "Requirement already satisfied: urllib3<3,>=1.21.1 in c:\\users\\trive\\anaconda3\\lib\\site-packages (from requests->dash>=3.0.0->dash_bootstrap_components) (2.2.3)\n",
      "Requirement already satisfied: certifi>=2017.4.17 in c:\\users\\trive\\anaconda3\\lib\\site-packages (from requests->dash>=3.0.0->dash_bootstrap_components) (2024.8.30)\n",
      "Requirement already satisfied: six>=1.7.0 in c:\\users\\trive\\anaconda3\\lib\\site-packages (from retrying->dash>=3.0.0->dash_bootstrap_components) (1.16.0)\n",
      "Requirement already satisfied: colorama in c:\\users\\trive\\anaconda3\\lib\\site-packages (from click>=8.1.3->Flask<3.1,>=1.0.4->dash>=3.0.0->dash_bootstrap_components) (0.4.6)\n"
     ]
    }
   ],
   "source": [
    "!pip install dash==2.9.3  # or latest version\n",
    "!pip install dash_bootstrap_components"
   ]
  },
  {
   "cell_type": "code",
   "execution_count": 9,
   "id": "9988d4f3-dc18-4f59-941a-8f0401df9c98",
   "metadata": {},
   "outputs": [],
   "source": [
    "import pandas as pd\n",
    "import numpy as np"
   ]
  },
  {
   "cell_type": "code",
   "execution_count": 10,
   "id": "e85e36c2-4411-487b-8a66-0feed7f1c015",
   "metadata": {},
   "outputs": [],
   "source": [
    "from prophet import Prophet\n",
    "\n",
    "model = Prophet()"
   ]
  },
  {
   "cell_type": "code",
   "execution_count": 14,
   "id": "64296f68-4142-4fa2-b2cb-2931600f6f7f",
   "metadata": {},
   "outputs": [],
   "source": [
    "import dash\n",
    "from dash import dcc, html, Input, Output\n",
    "import plotly.graph_objects as go\n",
    "import dash_bootstrap_components as dbc"
   ]
  },
  {
   "cell_type": "code",
   "execution_count": 16,
   "id": "0b0b71bb-0202-4dd9-b37f-ca29163d7318",
   "metadata": {},
   "outputs": [],
   "source": [
    "# Initialize the Dash app\n",
    "app = dash.Dash(__name__, external_stylesheets=[dbc.themes.BOOTSTRAP])\n",
    "server = app.server\n",
    "app.title = \"Energy Consumption Forecast\" "
   ]
  },
  {
   "cell_type": "code",
   "execution_count": 18,
   "id": "0b4d08da-07b1-4eb1-9ba6-ccad16848ca4",
   "metadata": {},
   "outputs": [
    {
     "name": "stdout",
     "output_type": "stream",
     "text": [
      "Original data shape: (121273, 1)\n"
     ]
    }
   ],
   "source": [
    "# Load and process data\n",
    "df = pd.read_csv('C:/Users/trive/Dashboard/Data/AEP_hourly.csv' , parse_dates=['Datetime'], index_col='Datetime')\n",
    "print(\"Original data shape:\", df.shape)"
   ]
  },
  {
   "cell_type": "code",
   "execution_count": 20,
   "id": "7d6422b9-91f5-4630-a6a6-f593faab4c07",
   "metadata": {},
   "outputs": [],
   "source": [
    "# Resample to daily data\n",
    "df_daily = df['AEP_MW'].resample('D').mean().dropna().reset_index()\n",
    "df_daily.columns = ['ds', 'y']  # Prophet requires 'ds' and 'y' column names"
   ]
  },
  {
   "cell_type": "code",
   "execution_count": 22,
   "id": "283257e3-2f4f-499a-a28d-c02bb13358a3",
   "metadata": {},
   "outputs": [
    {
     "name": "stdout",
     "output_type": "stream",
     "text": [
      "Daily data preview:\n",
      "          ds             y\n",
      "0 2004-10-01  14284.521739\n",
      "1 2004-10-02  12999.875000\n",
      "2 2004-10-03  12227.083333\n",
      "3 2004-10-04  14309.041667\n",
      "4 2004-10-05  14439.708333\n",
      "Daily data shape: (5055, 2)\n"
     ]
    }
   ],
   "source": [
    "print(\"Daily data preview:\")\n",
    "print(df_daily.head())\n",
    "print(\"Daily data shape:\", df_daily.shape)"
   ]
  },
  {
   "cell_type": "code",
   "execution_count": 24,
   "id": "a40a4164-52fe-4ca6-9837-34095b4a5899",
   "metadata": {},
   "outputs": [
    {
     "name": "stderr",
     "output_type": "stream",
     "text": [
      "14:25:58 - cmdstanpy - INFO - Chain [1] start processing\n",
      "14:25:58 - cmdstanpy - INFO - Chain [1] done processing\n"
     ]
    },
    {
     "name": "stdout",
     "output_type": "stream",
     "text": [
      "Forecast preview:\n",
      "             ds          yhat    yhat_lower    yhat_upper\n",
      "5080 2018-08-29  15789.098078  14217.707249  17370.717843\n",
      "5081 2018-08-30  15728.355636  14176.099175  17156.113632\n",
      "5082 2018-08-31  15395.371679  13754.924703  16931.293107\n",
      "5083 2018-09-01  14153.503991  12532.222487  15754.194970\n",
      "5084 2018-09-02  13659.291423  12139.669240  15115.943776\n"
     ]
    }
   ],
   "source": [
    "# Initialize and train the model\n",
    "model = Prophet()\n",
    "model.fit(df_daily)\n",
    "\n",
    "# Generate a future DataFrame for a 30-day forecast (or your desired horizon)\n",
    "horizon = 30  # or another value\n",
    "future = model.make_future_dataframe(periods=horizon)\n",
    "forecast = model.predict(future)\n",
    "\n",
    "print(\"Forecast preview:\")\n",
    "print(forecast[['ds', 'yhat', 'yhat_lower', 'yhat_upper']].tail())"
   ]
  },
  {
   "cell_type": "code",
   "execution_count": 26,
   "id": "62fb91a6-aa45-4d68-863c-95ede080a36e",
   "metadata": {},
   "outputs": [
    {
     "data": {
      "text/html": [
       "\n",
       "        <iframe\n",
       "            width=\"100%\"\n",
       "            height=\"650\"\n",
       "            src=\"http://127.0.0.1:8050/\"\n",
       "            frameborder=\"0\"\n",
       "            allowfullscreen\n",
       "            \n",
       "        ></iframe>\n",
       "        "
      ],
      "text/plain": [
       "<IPython.lib.display.IFrame at 0x1b427cec5f0>"
      ]
     },
     "metadata": {},
     "output_type": "display_data"
    }
   ],
   "source": [
    "import dash\n",
    "from dash import dcc, html, Input, Output\n",
    "import dash_bootstrap_components as dbc\n",
    "import plotly.graph_objects as go\n",
    "\n",
    "# Initialize the Dash app (using JupyterDash if in a notebook)\n",
    "app = dash.Dash(__name__, external_stylesheets=[dbc.themes.BOOTSTRAP])\n",
    "app.title = \"Energy Consumption Forecast Dashboard\"\n",
    "\n",
    "# Define the app layout\n",
    "app.layout = dbc.Container([\n",
    "    dbc.Row([\n",
    "        dbc.Col(html.H1(\"Energy Consumption Forecast Dashboard\"), width=12)\n",
    "    ], className=\"my-2\"),\n",
    "    \n",
    "    dbc.Row([\n",
    "        dbc.Col([\n",
    "            html.Label(\"Select Forecast Horizon (Days)\"),\n",
    "            dcc.Dropdown(\n",
    "                id='horizon-dropdown',\n",
    "                options=[\n",
    "                    {'label': '30 Days', 'value': 30},\n",
    "                    {'label': '90 Days', 'value': 90},\n",
    "                    {'label': '365 Days (1 Year)', 'value': 365}\n",
    "                ],\n",
    "                value=30,\n",
    "                clearable=False\n",
    "            )\n",
    "        ], width=3)\n",
    "    ], className=\"my-2\"),\n",
    "    \n",
    "    dbc.Row([\n",
    "        dbc.Col([\n",
    "            dcc.Graph(id='forecast-graph')\n",
    "        ], width=12)\n",
    "    ]),\n",
    "], fluid=True)\n",
    "\n",
    "# Callback to update forecast graph based on selected horizon\n",
    "@app.callback(\n",
    "    Output('forecast-graph', 'figure'),\n",
    "    Input('horizon-dropdown', 'value')\n",
    ")\n",
    "def update_forecast(horizon):\n",
    "    # Train the Prophet model on the full daily data\n",
    "    model = Prophet()\n",
    "    model.fit(df_daily)\n",
    "    \n",
    "    # Create future dataframe and predict forecast\n",
    "    future = model.make_future_dataframe(periods=horizon)\n",
    "    forecast = model.predict(future)\n",
    "    \n",
    "    # Build the Plotly figure\n",
    "    fig = go.Figure()\n",
    "    \n",
    "    # Historical data trace\n",
    "    fig.add_trace(go.Scatter(\n",
    "        x=df_daily['ds'],\n",
    "        y=df_daily['y'],\n",
    "        mode='lines',\n",
    "        name='Historical Data'\n",
    "    ))\n",
    "    \n",
    "    # Forecast trace\n",
    "    fig.add_trace(go.Scatter(\n",
    "        x=forecast['ds'],\n",
    "        y=forecast['yhat'],\n",
    "        mode='lines',\n",
    "        name='Forecast',\n",
    "        line=dict(color='red')\n",
    "    ))\n",
    "    \n",
    "    # Confidence interval traces\n",
    "    fig.add_trace(go.Scatter(\n",
    "        x=forecast['ds'],\n",
    "        y=forecast['yhat_lower'],\n",
    "        fill=None,\n",
    "        mode='lines',\n",
    "        line=dict(color='lightpink'),\n",
    "        name='Lower Confidence'\n",
    "    ))\n",
    "    fig.add_trace(go.Scatter(\n",
    "        x=forecast['ds'],\n",
    "        y=forecast['yhat_upper'],\n",
    "        fill='tonexty',\n",
    "        mode='lines',\n",
    "        line=dict(color='lightpink'),\n",
    "        name='Upper Confidence'\n",
    "    ))\n",
    "    \n",
    "    fig.update_layout(\n",
    "        title=f\"Forecast for {horizon} Days\",\n",
    "        xaxis_title=\"Date\",\n",
    "        yaxis_title=\"Energy Consumption (MW)\",\n",
    "        hovermode=\"x unified\"\n",
    "    )\n",
    "    return fig\n",
    "\n",
    "# Run the app (if in a script, otherwise use app.run_server(mode='inline') for JupyterDash)\n",
    "if __name__ == '__main__':\n",
    "    app.run(debug=True)\n"
   ]
  },
  {
   "cell_type": "code",
   "execution_count": null,
   "id": "c998402f-790a-4a8b-a6f1-dabdab3c0c32",
   "metadata": {},
   "outputs": [],
   "source": []
  }
 ],
 "metadata": {
  "kernelspec": {
   "display_name": "Python 3 (ipykernel)",
   "language": "python",
   "name": "python3"
  },
  "language_info": {
   "codemirror_mode": {
    "name": "ipython",
    "version": 3
   },
   "file_extension": ".py",
   "mimetype": "text/x-python",
   "name": "python",
   "nbconvert_exporter": "python",
   "pygments_lexer": "ipython3",
   "version": "3.12.7"
  }
 },
 "nbformat": 4,
 "nbformat_minor": 5
}
